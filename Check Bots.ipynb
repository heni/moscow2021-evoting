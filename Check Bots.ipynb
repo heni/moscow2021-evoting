{
 "cells": [
  {
   "cell_type": "code",
   "execution_count": 1,
   "id": "59096658",
   "metadata": {},
   "outputs": [
    {
     "name": "stdout",
     "output_type": "stream",
     "text": [
      "Populating the interactive namespace from numpy and matplotlib\n"
     ]
    }
   ],
   "source": [
    "import dataclasses\n",
    "import datetime\n",
    "import json\n",
    "import logging\n",
    "import progressbar\n",
    "import psycopg2.extras\n",
    "import typing as tp\n",
    "import numpy as np\n",
    "import matplotlib\n",
    "import matplotlib.pyplot as plt\n",
    "\n",
    "from decode import get_secret_object, decode_choice\n",
    "\n",
    "%pylab inline\n",
    "\n",
    "# fix inlined sum from numpy\n",
    "sum = __builtin__.sum"
   ]
  },
  {
   "cell_type": "code",
   "execution_count": 2,
   "id": "9f66caf2",
   "metadata": {},
   "outputs": [],
   "source": [
    "db_name = \"moscow2021\"\n",
    "db_user = 'postgres'\n",
    "db_password = 'wee5ahLae5Ut'\n",
    "connection = psycopg2.connect(host=\"127.0.0.1\", port=5432, database=\"moscow2021\", password=\"wee5ahLae5Ut\", user=\"postgres\")"
   ]
  },
  {
   "cell_type": "code",
   "execution_count": 3,
   "id": "8cc6cc22",
   "metadata": {},
   "outputs": [
    {
     "name": "stderr",
     "output_type": "stream",
     "text": [
      "| |                 #                             | 20147 Elapsed Time: 0:00:01\n"
     ]
    }
   ],
   "source": [
    "voter_data = {}\n",
    "with connection.cursor(cursor_factory = psycopg2.extras.DictCursor) as cur:\n",
    "    cur.execute(\"select hash, payload from public.transactions where method_id = 1 order by datetime \")\n",
    "    for idx, rec in progressbar.ProgressBar()(enumerate(cur)):\n",
    "        for voter_id in rec['payload']['voters']:\n",
    "            voter_data.setdefault(voter_id, {})['bucket'] = idx"
   ]
  },
  {
   "cell_type": "code",
   "execution_count": 4,
   "id": "42b204c7",
   "metadata": {},
   "outputs": [
    {
     "data": {
      "text/plain": [
       "2014765"
      ]
     },
     "execution_count": 4,
     "metadata": {},
     "output_type": "execute_result"
    }
   ],
   "source": [
    "len(voter_data)"
   ]
  },
  {
   "cell_type": "code",
   "execution_count": 5,
   "id": "f8fb04cf",
   "metadata": {},
   "outputs": [
    {
     "name": "stderr",
     "output_type": "stream",
     "text": [
      "| |        #                                    | 1987372 Elapsed Time: 0:00:35\n"
     ]
    }
   ],
   "source": [
    "with connection.cursor(cursor_factory = psycopg2.extras.DictCursor) as cur:\n",
    "    cur.execute(\"select hash, datetime, payload from public.transactions where method_id = 4\")\n",
    "    for rec in progressbar.ProgressBar()(cur):\n",
    "        voter_id = rec['payload']['voter_id']\n",
    "        district_id = rec['payload']['district_id']\n",
    "        _vdata = voter_data[voter_id]\n",
    "        _vdata.setdefault('ballots', []).append({'datetime': rec['datetime'], 'district_id': district_id})"
   ]
  },
  {
   "cell_type": "code",
   "execution_count": 6,
   "id": "cda08c08",
   "metadata": {},
   "outputs": [
    {
     "data": {
      "text/plain": [
       "{'bucket': 339,\n",
       " 'ballots': [{'datetime': datetime.datetime(2021, 9, 18, 17, 17, 58, 772000, tzinfo=datetime.timezone.utc),\n",
       "   'district_id': 200}]}"
      ]
     },
     "execution_count": 6,
     "metadata": {},
     "output_type": "execute_result"
    }
   ],
   "source": [
    "voter_data['60041203037575115812548508433900749278389757764324710440256594324395907671654']"
   ]
  },
  {
   "cell_type": "code",
   "execution_count": 7,
   "id": "3ea60b39",
   "metadata": {},
   "outputs": [
    {
     "name": "stdout",
     "output_type": "stream",
     "text": [
      "Revoting stat:  {1: 1909296, 0: 71175, 2: 26584, 3: 6142, 4: 1384, 5: 160, 6: 21, 7: 3}\n",
      "Number or revoted users: \t34294\n",
      "Number or revoted ballots: \t43783\n"
     ]
    }
   ],
   "source": [
    "revoting_stat = {}\n",
    "bucket_stat = {}\n",
    "bucket_voters = {}\n",
    "for voter_id, _vdata in voter_data.items():\n",
    "    bucket_id = _vdata['bucket']\n",
    "    voices = len(_vdata.get('ballots', []))\n",
    "    revoting_stat[voices] = revoting_stat.get(voices, 0) + 1\n",
    "    _bucket = bucket_stat.setdefault(bucket_id, {'voted': 0, 'voices': 0, 'voters': 0, 'revoted': 0})\n",
    "    _bucket['voters'] += 1\n",
    "    _bucket['voices'] += voices\n",
    "    _bucket['voted'] += 1 if voices >= 1 else 0\n",
    "    _bucket['revoted'] += 1 if voices >= 2 else 0\n",
    "    bucket_voters.setdefault(bucket_id, []).append({'id': voter_id, 'data': _vdata})\n",
    "print(\"Revoting stat: \", revoting_stat)\n",
    "print(\"Number or revoted users: \", sum(v for k, v in revoting_stat.items() if k > 1), sep=\"\\t\")\n",
    "print(\"Number or revoted ballots: \", sum((k-1)*v for k, v in revoting_stat.items() if k > 1), sep=\"\\t\")"
   ]
  },
  {
   "cell_type": "code",
   "execution_count": 8,
   "id": "b5be25d8",
   "metadata": {},
   "outputs": [
    {
     "data": {
      "text/plain": [
       "[<matplotlib.lines.Line2D at 0x19c10d3d0>]"
      ]
     },
     "execution_count": 8,
     "metadata": {},
     "output_type": "execute_result"
    },
    {
     "data": {
      "image/png": "[encoded data removed]",
      "text/plain": [
       "<Figure size 432x288 with 1 Axes>"
      ]
     },
     "metadata": {
      "needs_background": "light"
     },
     "output_type": "display_data"
    }
   ],
   "source": [
    "def moving_average(data_set, periods):\n",
    "    weights = np.ones(periods) / periods\n",
    "    return np.convolve(data_set, weights, mode='same')\n",
    "\n",
    "rg = range(18000, 20000)\n",
    "\n",
    "bv = np.array([bucket_stat[idx]['revoted']/ bucket_stat[idx]['voted'] + 1 for idx in rg])\n",
    "plt.plot(np.array(list(rg))[10:-10], moving_average(bv, 20)[10:-10])\n",
    "bv = np.array([bucket_stat[idx]['voices']/ bucket_stat[idx]['voted'] for idx in rg])\n",
    "plt.plot(np.array(list(rg))[10:-10], moving_average(bv, 20)[10:-10])\n",
    "bv = np.array([bucket_stat[idx]['voted']/ bucket_stat[idx]['voters'] for idx in rg])\n",
    "plt.plot(np.array(list(rg))[10:-10], moving_average(bv, 20)[10:-10])\n"
   ]
  },
  {
   "cell_type": "code",
   "execution_count": 9,
   "id": "4f2d4b72",
   "metadata": {},
   "outputs": [
    {
     "data": {
      "text/plain": [
       "array([0.98      , 0.96666667, 0.97      , ..., 0.97      , 0.96333333,\n",
       "       0.95333333])"
      ]
     },
     "execution_count": 9,
     "metadata": {},
     "output_type": "execute_result"
    }
   ],
   "source": [
    "def moving_average(data_set, periods=3):\n",
    "    weights = np.ones(periods) / periods\n",
    "    return np.convolve(data_set, weights, mode='valid')\n",
    "moving_average(bv)"
   ]
  },
  {
   "cell_type": "code",
   "execution_count": 10,
   "id": "c7304f7c",
   "metadata": {},
   "outputs": [
    {
     "data": {
      "text/plain": [
       "{204: 2477,\n",
       " 206: 2206,\n",
       " 198: 2399,\n",
       " 202: 2778,\n",
       " 199: 2485,\n",
       " 197: 2082,\n",
       " 210: 2182,\n",
       " 207: 2468,\n",
       " 203: 2331,\n",
       " 200: 2280,\n",
       " 201: 2168,\n",
       " 208: 1883,\n",
       " 196: 2240,\n",
       " 205: 2110,\n",
       " 209: 2205}"
      ]
     },
     "execution_count": 10,
     "metadata": {},
     "output_type": "execute_result"
    }
   ],
   "source": [
    "dstat = {}\n",
    "for voter_id, _vdata in voter_data.items():\n",
    "    district_id = _vdata['ballots'][0]['district_id'] if 'ballots' in _vdata else None\n",
    "    if len(_vdata.get('ballots', [])) > 1:\n",
    "        dstat[district_id] = dstat.get(district_id, 0) + 1\n",
    "dstat"
   ]
  },
  {
   "cell_type": "code",
   "execution_count": 11,
   "id": "0aa4939f",
   "metadata": {},
   "outputs": [
    {
     "data": {
      "text/plain": [
       "('11475633728483695492589133027047533545168636953454573849127262530664191932787',\n",
       " {'bucket': 0,\n",
       "  'ballots': [{'datetime': datetime.datetime(2021, 9, 17, 21, 11, 58, 185000, tzinfo=datetime.timezone.utc),\n",
       "    'district_id': 204},\n",
       "   {'datetime': datetime.datetime(2021, 9, 17, 21, 11, 58, 185000, tzinfo=datetime.timezone.utc),\n",
       "    'district_id': 204}]})"
      ]
     },
     "execution_count": 11,
     "metadata": {},
     "output_type": "execute_result"
    }
   ],
   "source": [
    "next(((k, v) for k, v in voter_data.items() if len(v.get('ballots', [])) > 1))"
   ]
  },
  {
   "cell_type": "code",
   "execution_count": null,
   "id": "f917da3a",
   "metadata": {},
   "outputs": [],
   "source": []
  }
 ],
 "metadata": {
  "kernelspec": {
   "display_name": "Python 3 (ipykernel)",
   "language": "python",
   "name": "python3"
  },
  "language_info": {
   "codemirror_mode": {
    "name": "ipython",
    "version": 3
   },
   "file_extension": ".py",
   "mimetype": "text/x-python",
   "name": "python",
   "nbconvert_exporter": "python",
   "pygments_lexer": "ipython3",
   "version": "3.9.7"
  }
 },
 "nbformat": 4,
 "nbformat_minor": 5
}
